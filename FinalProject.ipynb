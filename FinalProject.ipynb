{
 "cells": [
  {
   "cell_type": "markdown",
   "id": "5c37491d-ebdc-4a07-8ada-a3b5cdbc5683",
   "metadata": {},
   "source": [
    "### CPS 330 ML Project\n",
    "\n",
    "Sudoku!!\n",
    "\n",
    "\n",
    "Helpful sources: \n",
    "\n",
    "https://www.kaggle.com/datasets/rohanrao/sudoku?resource=download\n",
    "\n",
    "http://pi.math.cornell.edu/~mec/Summer2009/Mahmood/Count.html\n",
    "\n",
    "https://www.activestate.com/blog/solving-sudoku-with-python-and-artificial-intelligence/\n",
    "\n",
    "Use appendix B. of text to advise project development\n",
    "\n",
    "\n",
    "Most sources use CNN\n"
   ]
  },
  {
   "cell_type": "markdown",
   "id": "ca7b4a85-ada6-46f0-be5c-5b812f58eb00",
   "metadata": {},
   "source": [
    "# 1) Frame the problem"
   ]
  },
  {
   "cell_type": "code",
   "execution_count": null,
   "id": "ba47eefd-bf75-4cac-af6a-fb717cdeaf6d",
   "metadata": {},
   "outputs": [],
   "source": []
  },
  {
   "cell_type": "markdown",
   "id": "bf8640bf-7b00-4c75-a701-6390a260eeea",
   "metadata": {},
   "source": [
    "# 2) Get the data (plus some tools)"
   ]
  },
  {
   "cell_type": "code",
   "execution_count": 1,
   "id": "0cf9c045-aaf2-439f-956c-0415f8b4bd12",
   "metadata": {},
   "outputs": [
    {
     "name": "stderr",
     "output_type": "stream",
     "text": [
      "2022-12-06 17:49:56.130055: I tensorflow/core/platform/cpu_feature_guard.cc:193] This TensorFlow binary is optimized with oneAPI Deep Neural Network Library (oneDNN) to use the following CPU instructions in performance-critical operations:  SSE4.1 SSE4.2 AVX AVX2 AVX512F FMA\n",
      "To enable them in other operations, rebuild TensorFlow with the appropriate compiler flags.\n"
     ]
    }
   ],
   "source": [
    "# Preliminary imports and variable assigments\n",
    "import pandas as pd\n",
    "import numpy as np\n",
    "%matplotlib inline\n",
    "import matplotlib as mpl\n",
    "import matplotlib.pyplot as plt\n",
    "import tensorflow as tf\n",
    "from tensorflow import keras\n",
    "from keras.utils import to_categorical\n",
    "from tensorflow.keras.metrics import RootMeanSquaredError as rmse\n",
    "from sklearn.model_selection import train_test_split\n",
    "\n",
    "np.random.seed(42)\n",
    "\n",
    "# ANSI Color Codes for highlighting errors\n",
    "ANSI_RESET = \"\\u001B[0m\"\n",
    "ANSI_RED = \"\\u001B[31m\"\n",
    "\n",
    "# Print Sudoku with hightlighted errors from solved puzzle and solution 2d arrays\n",
    "def checkError(puzzle, solution):\n",
    "    result = \" \"\n",
    "    for i in range(len(puzzle)):\n",
    "        for j in range(len(puzzle)):\n",
    "            if (j % 9 == 0):\n",
    "                result += \"\\n \"\n",
    "            elif (j % 3 == 0):\n",
    "                result += \" |\"\n",
    "            result += \" \"\n",
    "            result += ANSI_RED + str(puzzle[i][j]) + ANSI_RESET if puzzle[i][j] != solution[i][j] else str(puzzle[i][j])\n",
    "        if (((i + 1) % 3 == 0) & (i < 8)):\n",
    "            result += \"\\n -------+-------+-------\"\n",
    "    print(result)\n",
    "\n",
    "def plot(history):\n",
    "    pd.DataFrame(history.history).plot(figsize=(8,5))\n",
    "    plt.grid(True)\n",
    "    plt.gca().set_ylim(0,1)\n",
    "    plt.show()"
   ]
  },
  {
   "cell_type": "code",
   "execution_count": 2,
   "id": "5069dca7-c008-44e2-bf58-96e023aac2f7",
   "metadata": {},
   "outputs": [],
   "source": [
    "# 9 million soduku puzzles and solutions...\n",
    "df = pd.read_csv('sudoku.csv', nrows=500000) "
   ]
  },
  {
   "cell_type": "markdown",
   "id": "c478c8a8-1bb3-4552-887f-a56056f8c03f",
   "metadata": {},
   "source": [
    "# 3) Explore to gain insights"
   ]
  },
  {
   "cell_type": "code",
   "execution_count": 3,
   "id": "ba47b3dc-8ac1-4e9e-9c86-adde5be79350",
   "metadata": {},
   "outputs": [
    {
     "name": "stdout",
     "output_type": "stream",
     "text": [
      "<class 'pandas.core.frame.DataFrame'>\n",
      "RangeIndex: 500000 entries, 0 to 499999\n",
      "Data columns (total 2 columns):\n",
      " #   Column    Non-Null Count   Dtype \n",
      "---  ------    --------------   ----- \n",
      " 0   puzzle    500000 non-null  object\n",
      " 1   solution  500000 non-null  object\n",
      "dtypes: object(2)\n",
      "memory usage: 7.6+ MB\n"
     ]
    }
   ],
   "source": [
    "df.info()"
   ]
  },
  {
   "cell_type": "code",
   "execution_count": 4,
   "id": "372dbf88-1d9d-4d35-b806-889e021d1613",
   "metadata": {},
   "outputs": [
    {
     "data": {
      "text/plain": [
       "'070000043040009610800634900094052000358460020000800530080070091902100005007040802'"
      ]
     },
     "execution_count": 4,
     "metadata": {},
     "output_type": "execute_result"
    }
   ],
   "source": [
    "df.loc[:,\"puzzle\"][0]"
   ]
  },
  {
   "cell_type": "code",
   "execution_count": 5,
   "id": "e50a9c5e-c3c2-4b48-8034-d1e04d49dd2e",
   "metadata": {},
   "outputs": [
    {
     "data": {
      "text/plain": [
       "'679518243543729618821634957794352186358461729216897534485276391962183475137945862'"
      ]
     },
     "execution_count": 5,
     "metadata": {},
     "output_type": "execute_result"
    }
   ],
   "source": [
    "df.loc[:,\"solution\"][0]"
   ]
  },
  {
   "cell_type": "markdown",
   "id": "9ec955d3-b3e6-4ff5-82b4-5e8172ad9f29",
   "metadata": {},
   "source": [
    "Each sudoku puzzle is stored in a 81 digit string. The best way to handle these strings is to parse them into 2-dimensional arrays?"
   ]
  },
  {
   "cell_type": "code",
   "execution_count": 6,
   "id": "7cfbae1e-7265-4440-8d9f-debb5842c4e4",
   "metadata": {},
   "outputs": [],
   "source": [
    "# Attempted to use np.fromstring() to parse string into (9,9) array but function has depreciated\n",
    "\n",
    "# Parse a string into a returned 9x9 numpy array\n",
    "def stringToGrid(nums):\n",
    "    grid = np.empty((9,9), dtype=np.int8)\n",
    "    for i in range(0, 9):\n",
    "        for j in range(0, 9):\n",
    "            grid[i][j] = nums[9*i + j]\n",
    "    return grid\n",
    "\n",
    "# Print grid from string\n",
    "def printString(nums):\n",
    "    result = \" \"\n",
    "    for i in range(0, len(nums)):\n",
    "        if (i % 9 == 0):\n",
    "            result += \"\\n \"\n",
    "        elif (i % 3 == 0):\n",
    "            result += \" |\"\n",
    "        if ((i % 27 == 0) & (i != 0)):\n",
    "            result += \"-------+-------+-------\\n \"\n",
    "        result += \" \" + nums[i]\n",
    "    print(result)\n",
    "    \n",
    "# Better to use this one now that puzzles/solutions will be handled as np.arrays\n",
    "# Print grid from np.array\n",
    "def printGrid(array):\n",
    "    result = \" \"\n",
    "    for row in range(0,9):\n",
    "        for col in range(0,9):\n",
    "            if (col % 9 == 0):\n",
    "                result += \"\\n \"\n",
    "            elif (col % 3 == 0):\n",
    "                result += \" |\"\n",
    "            result += \" \" + str(array[row][col])\n",
    "        if (((row + 1) % 3 == 0) & (row < 8)):\n",
    "            result += \"\\n -------+-------+-------\"\n",
    "    print(result)"
   ]
  },
  {
   "cell_type": "code",
   "execution_count": 7,
   "id": "c9d09043-f906-40e9-bd2f-857e1dc7a263",
   "metadata": {},
   "outputs": [
    {
     "name": "stdout",
     "output_type": "stream",
     "text": [
      " \n",
      "  0 7 0 | 0 0 0 | 0 4 3\n",
      "  0 4 0 | 0 0 9 | 6 1 0\n",
      "  8 0 0 | 6 3 4 | 9 0 0\n",
      " -------+-------+-------\n",
      "  0 9 4 | 0 5 2 | 0 0 0\n",
      "  3 5 8 | 4 6 0 | 0 2 0\n",
      "  0 0 0 | 8 0 0 | 5 3 0\n",
      " -------+-------+-------\n",
      "  0 8 0 | 0 7 0 | 0 9 1\n",
      "  9 0 2 | 1 0 0 | 0 0 5\n",
      "  0 0 7 | 0 4 0 | 8 0 2\n"
     ]
    }
   ],
   "source": [
    "printString(df.loc[:,\"puzzle\"][0])"
   ]
  },
  {
   "cell_type": "code",
   "execution_count": 8,
   "id": "836c46f8-2c49-4b96-9e2e-ae2407c25cbd",
   "metadata": {},
   "outputs": [
    {
     "name": "stdout",
     "output_type": "stream",
     "text": [
      " \n",
      "  0 7 0 | 0 0 0 | 0 4 3\n",
      "  0 4 0 | 0 0 9 | 6 1 0\n",
      "  8 0 0 | 6 3 4 | 9 0 0\n",
      " -------+-------+-------\n",
      "  0 9 4 | 0 5 2 | 0 0 0\n",
      "  3 5 8 | 4 6 0 | 0 2 0\n",
      "  0 0 0 | 8 0 0 | 5 3 0\n",
      " -------+-------+-------\n",
      "  0 8 0 | 0 7 0 | 0 9 1\n",
      "  9 0 2 | 1 0 0 | 0 0 5\n",
      "  0 0 7 | 0 4 0 | 8 0 2\n"
     ]
    }
   ],
   "source": [
    "printGrid(stringToGrid(df.loc[:,\"puzzle\"][0]))"
   ]
  },
  {
   "cell_type": "code",
   "execution_count": 9,
   "id": "ac2e3528-5c51-4e2d-8f80-00a0d27432d1",
   "metadata": {},
   "outputs": [],
   "source": [
    "def report(puzzles):\n",
    "    arr = []\n",
    "    for puzzle in puzzles:\n",
    "        arr.append(len(puzzle) - puzzle.count('0'))\n",
    "    print(\"STD: %.4f.\" % np.std(arr), \\\n",
    "         \"Min: %d clues\" % arr[np.argmin(arr)], \"in puzzle %d.\" % np.argmin(arr), \\\n",
    "         \"Max: %d clues\" % arr[np.argmax(arr)], \"in puzzle %d.\" % np.argmax(arr), \\\n",
    "         \"Mean: %.4f.\" % np.mean(arr))"
   ]
  },
  {
   "cell_type": "code",
   "execution_count": 10,
   "id": "66e271af-0df9-472c-a8fe-99928b1351b2",
   "metadata": {},
   "outputs": [
    {
     "name": "stdout",
     "output_type": "stream",
     "text": [
      "STD: 6.1101. Min: 23 clues in puzzle 24529. Max: 77 clues in puzzle 6035. Mean: 38.9108.\n"
     ]
    }
   ],
   "source": [
    "report(df.loc[:,\"puzzle\"])"
   ]
  },
  {
   "cell_type": "markdown",
   "id": "297aa1f8-1a36-49bb-94b7-77b5724c14a7",
   "metadata": {},
   "source": [
    "The contextual clue average is actually quite higher than I thought and there is quite a large variety between puzzles. Perhaps a multi-output classifier could work. It's also reasonable that a multilabel classification algorithm could do well, since that tends to be how I would solve a sudoku puzzle. "
   ]
  },
  {
   "cell_type": "markdown",
   "id": "c9c42ec6-b8e6-447e-a989-59d57b635a61",
   "metadata": {},
   "source": [
    "# 4) Prepare data to expose data patterns"
   ]
  },
  {
   "cell_type": "code",
   "execution_count": 11,
   "id": "fc10ae30-ee6c-4d07-ae84-473d7bac7683",
   "metadata": {},
   "outputs": [],
   "source": [
    "# Attempted to use np.fromstring() to parse string into (9,9) array but function has depreciated\n",
    "\n",
    "# Parse a string into a returned 9x9 numpy array\n",
    "# def stringToGrid(nums):\n",
    "#     grid = np.empty((9,9), dtype=np.int8)\n",
    "#     for i in range(0, 9):\n",
    "#         for j in range(0, 9):\n",
    "#             grid[i][j] = nums[9*i + j]\n",
    "#     return grid\n",
    "\n",
    "def norm(a):\n",
    "    return (a/9)-.5\n",
    "\n",
    "def denorm(a):\n",
    "    return (a+.5)*9\n",
    "\n",
    "# Reshape DataFrame and split into subsets\n",
    "def processData(data):\n",
    "    X = np.array([np.array(list(x)).astype(np.uint8).reshape(9,9) for x in data.puzzle])\n",
    "    y = np.array([np.array(list(x)).astype(np.uint8).reshape(9,9) for x in data.solution])\n",
    "    return train_test_split(X, y, test_size=0.2, random_state=42)"
   ]
  },
  {
   "cell_type": "code",
   "execution_count": 12,
   "id": "0575fe7c-f2af-4a62-8f6d-ee336bffe638",
   "metadata": {},
   "outputs": [],
   "source": [
    "X_train, X_test, y_train, y_test = processData(df)"
   ]
  },
  {
   "cell_type": "code",
   "execution_count": 13,
   "id": "c4a1a653-ab74-4430-acd1-ebd487ecf99b",
   "metadata": {},
   "outputs": [
    {
     "data": {
      "text/plain": [
       "((400000, 9, 9), (400000, 9, 9), (100000, 9, 9), (100000, 9, 9))"
      ]
     },
     "execution_count": 13,
     "metadata": {},
     "output_type": "execute_result"
    }
   ],
   "source": [
    "X_train.shape, y_train.shape, X_test.shape, y_test.shape"
   ]
  },
  {
   "cell_type": "code",
   "execution_count": 14,
   "id": "7b5dc568-8e74-4137-bdc4-2665d7fa1818",
   "metadata": {},
   "outputs": [
    {
     "data": {
      "text/plain": [
       "array([[4, 1, 0, 0, 0, 0, 0, 5, 0],\n",
       "       [5, 8, 7, 1, 0, 0, 0, 0, 0],\n",
       "       [3, 0, 0, 0, 0, 2, 0, 0, 0],\n",
       "       [0, 0, 8, 5, 9, 7, 0, 0, 1],\n",
       "       [2, 7, 0, 0, 0, 3, 0, 0, 4],\n",
       "       [0, 5, 0, 0, 0, 1, 8, 7, 0],\n",
       "       [7, 0, 0, 6, 0, 0, 2, 3, 0],\n",
       "       [0, 3, 0, 0, 2, 0, 0, 0, 9],\n",
       "       [1, 2, 0, 0, 8, 9, 7, 6, 0]], dtype=uint8)"
      ]
     },
     "execution_count": 14,
     "metadata": {},
     "output_type": "execute_result"
    }
   ],
   "source": [
    "X_train[0]"
   ]
  },
  {
   "cell_type": "markdown",
   "id": "0d863de8-2876-48f4-aed1-f4ad9d219740",
   "metadata": {},
   "source": [
    "# 5) Explore different models"
   ]
  },
  {
   "cell_type": "code",
   "execution_count": 15,
   "id": "7766bd72-673e-4ed5-902f-d40aae6a71a5",
   "metadata": {},
   "outputs": [],
   "source": [
    "# Clean out keras backend\n",
    "keras.backend.clear_session()"
   ]
  },
  {
   "cell_type": "markdown",
   "id": "b6c623df-8a80-43a5-9ef9-b3c77f62e254",
   "metadata": {},
   "source": [
    "### Basic 3-Layer Dense Model"
   ]
  },
  {
   "cell_type": "code",
   "execution_count": 16,
   "id": "7529dc6f-da02-4a48-9720-1271e9c83df4",
   "metadata": {},
   "outputs": [
    {
     "name": "stderr",
     "output_type": "stream",
     "text": [
      "2022-12-06 17:50:53.434506: I tensorflow/core/platform/cpu_feature_guard.cc:193] This TensorFlow binary is optimized with oneAPI Deep Neural Network Library (oneDNN) to use the following CPU instructions in performance-critical operations:  SSE4.1 SSE4.2 AVX AVX2 AVX512F FMA\n",
      "To enable them in other operations, rebuild TensorFlow with the appropriate compiler flags.\n",
      "2022-12-06 17:50:53.443685: I tensorflow/core/common_runtime/process_util.cc:146] Creating new thread pool with default inter op setting: 2. Tune using inter_op_parallelism_threads for best performance.\n"
     ]
    }
   ],
   "source": [
    "# model attempt 0\n",
    "\n",
    "model0 = keras.models.Sequential([\n",
    "    keras.layers.Dense(128, activation='relu', input_shape=(81,)),\n",
    "    keras.layers.Dense(128, activation='relu'),\n",
    "    keras.layers.Dense(81, activation='softmax')\n",
    "])"
   ]
  },
  {
   "cell_type": "code",
   "execution_count": 17,
   "id": "6a25296a-a9b7-4ea3-a9af-721912a53a38",
   "metadata": {},
   "outputs": [
    {
     "name": "stdout",
     "output_type": "stream",
     "text": [
      "Model: \"sequential\"\n",
      "_________________________________________________________________\n",
      " Layer (type)                Output Shape              Param #   \n",
      "=================================================================\n",
      " dense (Dense)               (None, 128)               10496     \n",
      "                                                                 \n",
      " dense_1 (Dense)             (None, 128)               16512     \n",
      "                                                                 \n",
      " dense_2 (Dense)             (None, 81)                10449     \n",
      "                                                                 \n",
      "=================================================================\n",
      "Total params: 37,457\n",
      "Trainable params: 37,457\n",
      "Non-trainable params: 0\n",
      "_________________________________________________________________\n"
     ]
    }
   ],
   "source": [
    "model0.summary()"
   ]
  },
  {
   "cell_type": "code",
   "execution_count": 18,
   "id": "abcbda20-0c2e-40e0-971e-90fb9ca2246b",
   "metadata": {},
   "outputs": [],
   "source": [
    "model0.compile(loss=\"mean_squared_error\", optimizer=\"adam\", metrics=['accuracy'])"
   ]
  },
  {
   "cell_type": "code",
   "execution_count": 19,
   "id": "d2af60c0-d89f-44b9-bbc3-80992b049c56",
   "metadata": {},
   "outputs": [],
   "source": [
    "X, y = X_train.reshape(-1,81), y_train.reshape(-1,81)"
   ]
  },
  {
   "cell_type": "code",
   "execution_count": 20,
   "id": "fb405681-6670-48d9-8c83-d3b0b9a21541",
   "metadata": {},
   "outputs": [
    {
     "name": "stdout",
     "output_type": "stream",
     "text": [
      "Epoch 1/2\n",
      "12500/12500 [==============================] - 32s 3ms/step - loss: 31.4732 - accuracy: 0.0342\n",
      "Epoch 2/2\n",
      "12500/12500 [==============================] - 30s 2ms/step - loss: 31.4708 - accuracy: 0.0353\n"
     ]
    },
    {
     "data": {
      "image/png": "[encoded data removed]",
      "text/plain": [
       "<Figure size 800x500 with 1 Axes>"
      ]
     },
     "metadata": {},
     "output_type": "display_data"
    }
   ],
   "source": [
    "plot(model0.fit(X, y, epochs=2))"
   ]
  },
  {
   "cell_type": "code",
   "execution_count": 21,
   "id": "c1a35420-6de2-43e2-8bbe-32222e0a9885",
   "metadata": {},
   "outputs": [
    {
     "name": "stdout",
     "output_type": "stream",
     "text": [
      "1/1 [==============================] - 0s 111ms/step\n",
      " \n",
      "  \u001b[31m0\u001b[0m \u001b[31m0\u001b[0m \u001b[31m0\u001b[0m | \u001b[31m0\u001b[0m \u001b[31m0\u001b[0m \u001b[31m0\u001b[0m | \u001b[31m0\u001b[0m \u001b[31m0\u001b[0m \u001b[31m0\u001b[0m\n",
      "  \u001b[31m0\u001b[0m \u001b[31m0\u001b[0m \u001b[31m0\u001b[0m | \u001b[31m0\u001b[0m \u001b[31m0\u001b[0m \u001b[31m0\u001b[0m | \u001b[31m0\u001b[0m \u001b[31m0\u001b[0m \u001b[31m0\u001b[0m\n",
      "  \u001b[31m0\u001b[0m \u001b[31m0\u001b[0m \u001b[31m0\u001b[0m | \u001b[31m0\u001b[0m \u001b[31m0\u001b[0m \u001b[31m0\u001b[0m | \u001b[31m0\u001b[0m \u001b[31m0\u001b[0m \u001b[31m1\u001b[0m\n",
      " -------+-------+-------\n",
      "  \u001b[31m0\u001b[0m \u001b[31m0\u001b[0m \u001b[31m0\u001b[0m | \u001b[31m0\u001b[0m \u001b[31m0\u001b[0m \u001b[31m0\u001b[0m | \u001b[31m0\u001b[0m \u001b[31m0\u001b[0m \u001b[31m0\u001b[0m\n",
      "  \u001b[31m0\u001b[0m \u001b[31m0\u001b[0m \u001b[31m0\u001b[0m | \u001b[31m0\u001b[0m \u001b[31m0\u001b[0m \u001b[31m0\u001b[0m | \u001b[31m0\u001b[0m \u001b[31m0\u001b[0m \u001b[31m0\u001b[0m\n",
      "  \u001b[31m0\u001b[0m \u001b[31m0\u001b[0m \u001b[31m0\u001b[0m | \u001b[31m0\u001b[0m \u001b[31m0\u001b[0m \u001b[31m0\u001b[0m | \u001b[31m0\u001b[0m \u001b[31m0\u001b[0m \u001b[31m0\u001b[0m\n",
      " -------+-------+-------\n",
      "  \u001b[31m0\u001b[0m \u001b[31m0\u001b[0m \u001b[31m0\u001b[0m | \u001b[31m0\u001b[0m \u001b[31m0\u001b[0m \u001b[31m0\u001b[0m | \u001b[31m0\u001b[0m \u001b[31m0\u001b[0m \u001b[31m0\u001b[0m\n",
      "  \u001b[31m0\u001b[0m \u001b[31m0\u001b[0m \u001b[31m0\u001b[0m | \u001b[31m0\u001b[0m \u001b[31m0\u001b[0m \u001b[31m0\u001b[0m | \u001b[31m0\u001b[0m \u001b[31m0\u001b[0m \u001b[31m0\u001b[0m\n",
      "  \u001b[31m0\u001b[0m \u001b[31m0\u001b[0m \u001b[31m0\u001b[0m | \u001b[31m0\u001b[0m \u001b[31m0\u001b[0m \u001b[31m0\u001b[0m | \u001b[31m0\u001b[0m \u001b[31m0\u001b[0m \u001b[31m0\u001b[0m\n"
     ]
    }
   ],
   "source": [
    "checkError(np.round(model0.predict(X_test[0].reshape(-1,81)).reshape(9,9)).astype(int), y_test[0])"
   ]
  },
  {
   "cell_type": "markdown",
   "id": "685f07d6-26b0-419c-8155-2727c4915a67",
   "metadata": {},
   "source": [
    "This is obviously incorrect, lets try a model with less dense layers"
   ]
  },
  {
   "cell_type": "markdown",
   "id": "62505d29-dac4-4288-a9c9-9eb7b76502d9",
   "metadata": {},
   "source": [
    "### Convolutional Model"
   ]
  },
  {
   "cell_type": "code",
   "execution_count": 22,
   "id": "e1447f30-67d0-4bb9-acfd-2e301e73a75b",
   "metadata": {},
   "outputs": [],
   "source": [
    "# model attempt 1\n",
    "\n",
    "model1 = keras.models.Sequential([\n",
    "    keras.layers.Conv2D(81, (3,3), activation='relu', padding=\"same\", input_shape=(9,9,1)),\n",
    "    keras.layers.Conv2D(81, (3,3), activation='relu', padding=\"same\"),\n",
    "    keras.layers.Dense(1, activation='linear'),\n",
    "])\n",
    "\n",
    "# 10% accuracy"
   ]
  },
  {
   "cell_type": "code",
   "execution_count": 23,
   "id": "823b3cb2-b842-4e29-b4c5-55884b6ff687",
   "metadata": {},
   "outputs": [
    {
     "name": "stdout",
     "output_type": "stream",
     "text": [
      "Model: \"sequential_1\"\n",
      "_________________________________________________________________\n",
      " Layer (type)                Output Shape              Param #   \n",
      "=================================================================\n",
      " conv2d (Conv2D)             (None, 9, 9, 81)          810       \n",
      "                                                                 \n",
      " conv2d_1 (Conv2D)           (None, 9, 9, 81)          59130     \n",
      "                                                                 \n",
      " dense_3 (Dense)             (None, 9, 9, 1)           82        \n",
      "                                                                 \n",
      "=================================================================\n",
      "Total params: 60,022\n",
      "Trainable params: 60,022\n",
      "Non-trainable params: 0\n",
      "_________________________________________________________________\n"
     ]
    }
   ],
   "source": [
    "model1.summary()"
   ]
  },
  {
   "cell_type": "code",
   "execution_count": 24,
   "id": "6781ff2a-4ec4-4673-8f64-bbac07e5de48",
   "metadata": {},
   "outputs": [],
   "source": [
    "model1.compile(loss=\"mean_squared_error\", optimizer=\"adam\", metrics=['accuracy'])"
   ]
  },
  {
   "cell_type": "code",
   "execution_count": 26,
   "id": "d6c6653e-20c0-431c-8811-eecc51a5bcf2",
   "metadata": {},
   "outputs": [
    {
     "name": "stdout",
     "output_type": "stream",
     "text": [
      "Epoch 1/2\n",
      "12500/12500 [==============================] - 281s 23ms/step - loss: 3.2085 - accuracy: 0.1111\n",
      "Epoch 2/2\n",
      "12500/12500 [==============================] - 316s 25ms/step - loss: 3.1939 - accuracy: 0.1111\n"
     ]
    },
    {
     "data": {
      "image/png": "[encoded data removed]",
      "text/plain": [
       "<Figure size 800x500 with 1 Axes>"
      ]
     },
     "metadata": {},
     "output_type": "display_data"
    }
   ],
   "source": [
    "# 9 million puzzles is a lot. \n",
    "# For some reason the webpage reloads and I lose progress frequently. \n",
    "# For the sake of time, this training is reduced\n",
    "plot(model1.fit(X_train, y_train, epochs=2))"
   ]
  },
  {
   "cell_type": "code",
   "execution_count": 27,
   "id": "00abdc9f-b2f1-47f9-af0b-9b61eb838b01",
   "metadata": {},
   "outputs": [
    {
     "name": "stdout",
     "output_type": "stream",
     "text": [
      "1/1 [==============================] - 0s 72ms/step\n",
      " \n",
      "  9 5 \u001b[31m5\u001b[0m | \u001b[31m7\u001b[0m 1 7 | \u001b[31m6\u001b[0m 2 \u001b[31m5\u001b[0m\n",
      "  4 \u001b[31m5\u001b[0m 6 | \u001b[31m6\u001b[0m 5 2 | \u001b[31m6\u001b[0m \u001b[31m6\u001b[0m 3\n",
      "  \u001b[31m5\u001b[0m 2 \u001b[31m7\u001b[0m | 3 4 \u001b[31m6\u001b[0m | \u001b[31m5\u001b[0m 5 9\n",
      " -------+-------+-------\n",
      "  6 4 2 | \u001b[31m6\u001b[0m \u001b[31m6\u001b[0m \u001b[31m5\u001b[0m | \u001b[31m5\u001b[0m \u001b[31m5\u001b[0m 5\n",
      "  3 7 \u001b[31m6\u001b[0m | \u001b[31m6\u001b[0m \u001b[31m5\u001b[0m \u001b[31m5\u001b[0m | \u001b[31m6\u001b[0m \u001b[31m5\u001b[0m 1\n",
      "  1 \u001b[31m6\u001b[0m 5 | \u001b[31m5\u001b[0m \u001b[31m5\u001b[0m \u001b[31m5\u001b[0m | \u001b[31m5\u001b[0m 6 \u001b[31m5\u001b[0m\n",
      " -------+-------+-------\n",
      "  \u001b[31m6\u001b[0m 3 \u001b[31m5\u001b[0m | 2 9 \u001b[31m5\u001b[0m | 5 \u001b[31m5\u001b[0m 4\n",
      "  \u001b[31m5\u001b[0m \u001b[31m5\u001b[0m 9 | 4 \u001b[31m5\u001b[0m \u001b[31m6\u001b[0m | \u001b[31m5\u001b[0m \u001b[31m5\u001b[0m 6\n",
      "  5 \u001b[31m5\u001b[0m \u001b[31m5\u001b[0m | \u001b[31m6\u001b[0m 3 1 | \u001b[31m6\u001b[0m 8 \u001b[31m5\u001b[0m\n"
     ]
    }
   ],
   "source": [
    "checkError(np.around(model1.predict(X_test[:1])).reshape(9,9).astype(int), y_test[:1].astype(int).squeeze())"
   ]
  },
  {
   "cell_type": "markdown",
   "id": "f71394d6-8495-44b5-8275-c7e358c39386",
   "metadata": {},
   "source": [
    "Looking a lot more accurate. Prediction seems to perform a lot better when data isn't normalized, interesting. "
   ]
  },
  {
   "cell_type": "markdown",
   "id": "80772736-ad6a-4491-ad0c-c1bd02745ba4",
   "metadata": {},
   "source": [
    "### 10-Layer Convolutional Neural Network with Dense Activation Layer"
   ]
  },
  {
   "cell_type": "code",
   "execution_count": 28,
   "id": "833d872a-4fa9-4bed-a923-9aed4c7fa136",
   "metadata": {},
   "outputs": [],
   "source": [
    "# model attempt 2\n",
    "model2 = keras.models.Sequential([\n",
    "    keras.layers.Conv2D(32, (3,3), activation='relu', padding=\"same\", input_shape=(9,9,1)),\n",
    "    keras.layers.Conv2D(128, (3,3), activation='relu', padding=\"same\"),\n",
    "    keras.layers.Conv2D(128, (3,3), activation='relu', padding=\"same\"),\n",
    "    keras.layers.Conv2D(128, (3,3), activation='relu', padding=\"same\"),\n",
    "    keras.layers.Conv2D(128, (3,3), activation='relu', padding=\"same\"),\n",
    "    keras.layers.Conv2D(128, (3,3), activation='relu', padding=\"same\"),\n",
    "    keras.layers.Conv2D(128, (3,3), activation='relu', padding=\"same\"),\n",
    "    keras.layers.Conv2D(128, (3,3), activation='relu', padding=\"same\"),\n",
    "    keras.layers.Conv2D(128, (3,3), activation='relu', padding=\"same\"),\n",
    "    keras.layers.Dense(1, activation='linear'),\n",
    "])"
   ]
  },
  {
   "cell_type": "code",
   "execution_count": 29,
   "id": "ff97db97-cc9d-40bf-a070-e880422d7fed",
   "metadata": {},
   "outputs": [
    {
     "name": "stdout",
     "output_type": "stream",
     "text": [
      "Model: \"sequential_2\"\n",
      "_________________________________________________________________\n",
      " Layer (type)                Output Shape              Param #   \n",
      "=================================================================\n",
      " conv2d_2 (Conv2D)           (None, 9, 9, 32)          320       \n",
      "                                                                 \n",
      " conv2d_3 (Conv2D)           (None, 9, 9, 128)         36992     \n",
      "                                                                 \n",
      " conv2d_4 (Conv2D)           (None, 9, 9, 128)         147584    \n",
      "                                                                 \n",
      " conv2d_5 (Conv2D)           (None, 9, 9, 128)         147584    \n",
      "                                                                 \n",
      " conv2d_6 (Conv2D)           (None, 9, 9, 128)         147584    \n",
      "                                                                 \n",
      " conv2d_7 (Conv2D)           (None, 9, 9, 128)         147584    \n",
      "                                                                 \n",
      " conv2d_8 (Conv2D)           (None, 9, 9, 128)         147584    \n",
      "                                                                 \n",
      " conv2d_9 (Conv2D)           (None, 9, 9, 128)         147584    \n",
      "                                                                 \n",
      " conv2d_10 (Conv2D)          (None, 9, 9, 128)         147584    \n",
      "                                                                 \n",
      " dense_4 (Dense)             (None, 9, 9, 1)           129       \n",
      "                                                                 \n",
      "=================================================================\n",
      "Total params: 1,070,529\n",
      "Trainable params: 1,070,529\n",
      "Non-trainable params: 0\n",
      "_________________________________________________________________\n"
     ]
    }
   ],
   "source": [
    "model2.summary()"
   ]
  },
  {
   "cell_type": "code",
   "execution_count": 30,
   "id": "7cd84206-cafc-4120-9c27-b6bfe4c9a2bb",
   "metadata": {},
   "outputs": [],
   "source": [
    "model2.compile(loss=\"mean_squared_error\", optimizer=\"adam\", metrics=['accuracy'])"
   ]
  },
  {
   "cell_type": "code",
   "execution_count": 31,
   "id": "2dcf1b54-6f11-4789-8ed0-2d4a37692f47",
   "metadata": {},
   "outputs": [
    {
     "name": "stdout",
     "output_type": "stream",
     "text": [
      "12500/12500 [==============================] - 976s 78ms/step - loss: 2.6280 - accuracy: 0.1109\n"
     ]
    },
    {
     "data": {
      "image/png": "[encoded data removed]",
      "text/plain": [
       "<Figure size 800x500 with 1 Axes>"
      ]
     },
     "metadata": {},
     "output_type": "display_data"
    }
   ],
   "source": [
    "plot(model2.fit(X_train, y_train, epochs=1))"
   ]
  },
  {
   "cell_type": "code",
   "execution_count": 32,
   "id": "edb346a8-4d5a-4046-aed4-28149c69b72e",
   "metadata": {},
   "outputs": [
    {
     "name": "stdout",
     "output_type": "stream",
     "text": [
      "1/1 [==============================] - 0s 91ms/step\n",
      " \n",
      "  9 5 \u001b[31m5\u001b[0m | \u001b[31m7\u001b[0m 1 7 | \u001b[31m5\u001b[0m 2 \u001b[31m5\u001b[0m\n",
      "  \u001b[31m6\u001b[0m \u001b[31m5\u001b[0m 6 | 9 5 2 | \u001b[31m4\u001b[0m \u001b[31m5\u001b[0m 3\n",
      "  \u001b[31m5\u001b[0m 2 \u001b[31m2\u001b[0m | 3 4 \u001b[31m7\u001b[0m | 6 5 9\n",
      " -------+-------+-------\n",
      "  6 4 2 | \u001b[31m2\u001b[0m \u001b[31m6\u001b[0m \u001b[31m6\u001b[0m | \u001b[31m7\u001b[0m \u001b[31m6\u001b[0m \u001b[31m6\u001b[0m\n",
      "  3 7 8 | \u001b[31m6\u001b[0m \u001b[31m5\u001b[0m \u001b[31m6\u001b[0m | \u001b[31m5\u001b[0m \u001b[31m5\u001b[0m 1\n",
      "  1 9 5 | \u001b[31m4\u001b[0m \u001b[31m5\u001b[0m \u001b[31m5\u001b[0m | \u001b[31m5\u001b[0m 6 \u001b[31m6\u001b[0m\n",
      " -------+-------+-------\n",
      "  \u001b[31m5\u001b[0m 3 \u001b[31m4\u001b[0m | 2 9 \u001b[31m8\u001b[0m | 5 \u001b[31m5\u001b[0m 4\n",
      "  \u001b[31m4\u001b[0m \u001b[31m4\u001b[0m 9 | 4 \u001b[31m6\u001b[0m 5 | \u001b[31m3\u001b[0m \u001b[31m4\u001b[0m 6\n",
      "  5 6 \u001b[31m5\u001b[0m | \u001b[31m6\u001b[0m 3 1 | \u001b[31m6\u001b[0m 8 \u001b[31m5\u001b[0m\n"
     ]
    }
   ],
   "source": [
    "checkError(np.around(model2.predict(X_test[:1])).reshape(9,9).astype(int), y_test[:1].astype(int).squeeze())"
   ]
  },
  {
   "cell_type": "markdown",
   "id": "ae7f111b-d4b1-4a24-a269-2b69c0797dd1",
   "metadata": {},
   "source": [
    "### Convolutional Model with Dropout"
   ]
  },
  {
   "cell_type": "code",
   "execution_count": 33,
   "id": "95f34b1e-e3ca-4a92-9326-c6d3958a3792",
   "metadata": {},
   "outputs": [],
   "source": [
    "# model attempt 3\n",
    "model3 = keras.models.Sequential([\n",
    "    keras.layers.Conv2D(64, (3,3), activation='relu', padding=\"same\", input_shape=(9,9,1)),\n",
    "    keras.layers.Dropout(0.5),\n",
    "    keras.layers.Conv2D(32, (3,3), activation='relu', padding=\"same\"),\n",
    "    keras.layers.Dropout(0.5),\n",
    "    keras.layers.Conv2D(16, (3,3), activation='relu', padding=\"same\"),\n",
    "    keras.layers.Dropout(0.5),\n",
    "    keras.layers.Dense(1, activation='linear'),\n",
    "])\n",
    "\n",
    "# < 1.0 RSME? But accuracy is 10% still"
   ]
  },
  {
   "cell_type": "code",
   "execution_count": 34,
   "id": "d9dacd62-cb0e-4327-8340-23ac4f739f65",
   "metadata": {},
   "outputs": [
    {
     "name": "stdout",
     "output_type": "stream",
     "text": [
      "Model: \"sequential_3\"\n",
      "_________________________________________________________________\n",
      " Layer (type)                Output Shape              Param #   \n",
      "=================================================================\n",
      " conv2d_11 (Conv2D)          (None, 9, 9, 64)          640       \n",
      "                                                                 \n",
      " dropout (Dropout)           (None, 9, 9, 64)          0         \n",
      "                                                                 \n",
      " conv2d_12 (Conv2D)          (None, 9, 9, 32)          18464     \n",
      "                                                                 \n",
      " dropout_1 (Dropout)         (None, 9, 9, 32)          0         \n",
      "                                                                 \n",
      " conv2d_13 (Conv2D)          (None, 9, 9, 16)          4624      \n",
      "                                                                 \n",
      " dropout_2 (Dropout)         (None, 9, 9, 16)          0         \n",
      "                                                                 \n",
      " dense_5 (Dense)             (None, 9, 9, 1)           17        \n",
      "                                                                 \n",
      "=================================================================\n",
      "Total params: 23,745\n",
      "Trainable params: 23,745\n",
      "Non-trainable params: 0\n",
      "_________________________________________________________________\n"
     ]
    }
   ],
   "source": [
    "model3.summary()"
   ]
  },
  {
   "cell_type": "code",
   "execution_count": 35,
   "id": "c82834c4-e2af-49eb-9e27-0dd78427e15e",
   "metadata": {},
   "outputs": [],
   "source": [
    "model3.compile(loss=\"mean_squared_error\", optimizer=\"adam\", metrics=['accuracy'])"
   ]
  },
  {
   "cell_type": "code",
   "execution_count": 36,
   "id": "7122a15b-7d2b-4abd-bfb7-e41fe896704e",
   "metadata": {},
   "outputs": [
    {
     "name": "stdout",
     "output_type": "stream",
     "text": [
      "Epoch 1/2\n",
      "12500/12500 [==============================] - 513s 41ms/step - loss: 4.5518 - accuracy: 0.1069\n",
      "Epoch 2/2\n",
      "12500/12500 [==============================] - 478s 38ms/step - loss: 3.8416 - accuracy: 0.1032\n"
     ]
    },
    {
     "data": {
      "image/png": "[encoded data removed]",
      "text/plain": [
       "<Figure size 800x500 with 1 Axes>"
      ]
     },
     "metadata": {},
     "output_type": "display_data"
    }
   ],
   "source": [
    "plot(model3.fit(X_train, y_train, epochs=2))"
   ]
  },
  {
   "cell_type": "code",
   "execution_count": 37,
   "id": "83867de7-11d6-4fb4-9bef-8f911976b032",
   "metadata": {},
   "outputs": [
    {
     "name": "stdout",
     "output_type": "stream",
     "text": [
      "1/1 [==============================] - 0s 95ms/step\n",
      " \n",
      "  \u001b[31m8\u001b[0m 5 \u001b[31m5\u001b[0m | \u001b[31m5\u001b[0m \u001b[31m2\u001b[0m \u001b[31m6\u001b[0m | \u001b[31m6\u001b[0m \u001b[31m3\u001b[0m \u001b[31m5\u001b[0m\n",
      "  4 \u001b[31m5\u001b[0m 6 | \u001b[31m6\u001b[0m 5 2 | \u001b[31m6\u001b[0m \u001b[31m6\u001b[0m 3\n",
      "  \u001b[31m5\u001b[0m \u001b[31m3\u001b[0m \u001b[31m6\u001b[0m | 3 4 \u001b[31m5\u001b[0m | \u001b[31m5\u001b[0m 5 \u001b[31m8\u001b[0m\n",
      " -------+-------+-------\n",
      "  6 4 2 | \u001b[31m6\u001b[0m \u001b[31m5\u001b[0m \u001b[31m6\u001b[0m | \u001b[31m5\u001b[0m \u001b[31m5\u001b[0m 5\n",
      "  3 7 \u001b[31m5\u001b[0m | \u001b[31m6\u001b[0m \u001b[31m5\u001b[0m \u001b[31m5\u001b[0m | \u001b[31m5\u001b[0m \u001b[31m5\u001b[0m \u001b[31m2\u001b[0m\n",
      "  \u001b[31m2\u001b[0m \u001b[31m6\u001b[0m 5 | \u001b[31m5\u001b[0m \u001b[31m5\u001b[0m \u001b[31m5\u001b[0m | \u001b[31m5\u001b[0m 6 \u001b[31m5\u001b[0m\n",
      " -------+-------+-------\n",
      "  \u001b[31m6\u001b[0m 3 \u001b[31m5\u001b[0m | 2 \u001b[31m8\u001b[0m \u001b[31m5\u001b[0m | 5 \u001b[31m4\u001b[0m 4\n",
      "  \u001b[31m5\u001b[0m \u001b[31m5\u001b[0m \u001b[31m8\u001b[0m | 4 \u001b[31m5\u001b[0m 5 | \u001b[31m5\u001b[0m \u001b[31m5\u001b[0m 6\n",
      "  5 \u001b[31m5\u001b[0m \u001b[31m5\u001b[0m | \u001b[31m6\u001b[0m 3 \u001b[31m2\u001b[0m | \u001b[31m5\u001b[0m 8 \u001b[31m5\u001b[0m\n"
     ]
    }
   ],
   "source": [
    "checkError(np.around(model3.predict(X_test[:1])).reshape(9,9).astype(int), y_test[:1].astype(int).squeeze())"
   ]
  },
  {
   "cell_type": "markdown",
   "id": "126b15c4-2660-4eae-afe7-1beb23607214",
   "metadata": {},
   "source": [
    "### Complex Convolutional Network on Individual Squares"
   ]
  },
  {
   "cell_type": "markdown",
   "id": "6a602f21-80e9-42f0-b792-513c6d2747c7",
   "metadata": {},
   "source": [
    "The above models are not as accurate as they can be. As regression problems they do their best to guess a 9x9 grid of numbers based on a provided puzzle. Lets create a model that can refine its weights and be applied to empty squares one by one to calculate their predicted values. This should preserve the accuracy of the already half solved puzzle. \n",
    "\n",
    "Credit: https://www.kaggle.com/code/yashchoudhary/deep-sudoku-solver-multiple-approaches"
   ]
  },
  {
   "cell_type": "code",
   "execution_count": 38,
   "id": "aba5e342-6c4e-404f-affd-a10c3e3aa76c",
   "metadata": {},
   "outputs": [],
   "source": [
    "from keras.utils import Sequence\n",
    "\n",
    "#Utility Functions\n",
    "class DataGenerator(Sequence):\n",
    "    def __init__(self, df,batch_size = 16,subset = \"train\",shuffle = False, info={}):\n",
    "        super().__init__()\n",
    "        self.df = df\n",
    "        self.batch_size = batch_size\n",
    "        self.shuffle = shuffle\n",
    "        self.subset = subset\n",
    "        self.info = info\n",
    "        \n",
    "        self.data_path = path\n",
    "        self.on_epoch_end()\n",
    "        \n",
    "    def __len__(self):\n",
    "        return int(np.floor(len(self.df)/self.batch_size))\n",
    "    def on_epoch_end(self):\n",
    "        self.indexes = np.arange(len(self.df))\n",
    "        if self.shuffle==True:\n",
    "            np.random.shuffle(self.indexes)\n",
    "            \n",
    "    def __getitem__(self,index):\n",
    "        X = np.empty((self.batch_size, 9,9,1))\n",
    "        y = np.empty((self.batch_size,81,1))\n",
    "        indexes = self.indexes[index*self.batch_size:(index+1)*self.batch_size]\n",
    "        for i,f in enumerate(self.df['quizzes'].iloc[indexes]):\n",
    "            self.info[index*self.batch_size+i]=f\n",
    "            X[i,] = (np.array(list(map(int,list(f)))).reshape((9,9,1))/9)-0.5\n",
    "        if self.subset == 'train': \n",
    "            for i,f in enumerate(self.df['solutions'].iloc[indexes]):\n",
    "                self.info[index*self.batch_size+i]=f\n",
    "                y[i,] = np.array(list(map(int,list(f)))).reshape((81,1)) - 1\n",
    "        if self.subset == 'train': return X, y\n",
    "        else: return X"
   ]
  },
  {
   "cell_type": "code",
   "execution_count": 44,
   "id": "a585ea70-6355-4c24-937e-ece0b41b63e6",
   "metadata": {},
   "outputs": [],
   "source": [
    "path = './'\n",
    "data = pd.read_csv(path+\"sudoku.csv\", nrows=500000)\n",
    "try:\n",
    "    data = pd.DataFrame({\"quizzes\":data[\"puzzle\"],\"solutions\":data[\"solution\"]})\n",
    "except:\n",
    "    pass"
   ]
  },
  {
   "cell_type": "code",
   "execution_count": 45,
   "id": "42953952-717b-4926-81e4-7a7eaf005d5c",
   "metadata": {},
   "outputs": [],
   "source": [
    "train_idx = int(len(data)*0.95)\n",
    "data = data.sample(frac=1).reset_index(drop=True)\n",
    "training_generator = DataGenerator(data.iloc[:train_idx], subset = \"train\", batch_size=640)\n",
    "validation_generator = DataGenerator(data.iloc[train_idx:], subset = \"train\",  batch_size=640)"
   ]
  },
  {
   "cell_type": "code",
   "execution_count": 78,
   "id": "99bf82fc-3ae7-490a-9809-acba5aeccc02",
   "metadata": {},
   "outputs": [
    {
     "data": {
      "text/plain": [
       "(25000, 2)"
      ]
     },
     "execution_count": 78,
     "metadata": {},
     "output_type": "execute_result"
    }
   ],
   "source": [
    "test = data.iloc[train_idx:]\n",
    "test.shape"
   ]
  },
  {
   "cell_type": "code",
   "execution_count": 79,
   "id": "77764763-9c2a-46a9-b002-308e18eaf6c2",
   "metadata": {},
   "outputs": [],
   "source": [
    "X_test, y_test = test.quizzes, test.solutions"
   ]
  },
  {
   "cell_type": "code",
   "execution_count": 88,
   "id": "61e18e98-6436-4970-a8bb-1b2215b33507",
   "metadata": {},
   "outputs": [
    {
     "data": {
      "text/plain": [
       "('008304200049706000010000049000072853000980601030060024026140090000005100100000400',\n",
       " '578394216249716385613258749961472853452983671837561924326147598794835162185629437')"
      ]
     },
     "execution_count": 88,
     "metadata": {},
     "output_type": "execute_result"
    }
   ],
   "source": [
    "X_test.iloc[0], y_test.iloc[0]"
   ]
  },
  {
   "cell_type": "code",
   "execution_count": 2,
   "id": "761add47-f14c-4e5d-9fe2-75d2f0367498",
   "metadata": {},
   "outputs": [
    {
     "name": "stderr",
     "output_type": "stream",
     "text": [
      "2022-12-06 19:52:33.007177: I tensorflow/core/platform/cpu_feature_guard.cc:193] This TensorFlow binary is optimized with oneAPI Deep Neural Network Library (oneDNN) to use the following CPU instructions in performance-critical operations:  AVX2 FMA\n",
      "To enable them in other operations, rebuild TensorFlow with the appropriate compiler flags.\n",
      "/Users/jakeypoo/opt/anaconda3/envs/cps330/lib/python3.9/site-packages/scipy/__init__.py:146: UserWarning: A NumPy version >=1.16.5 and <1.23.0 is required for this version of SciPy (detected version 1.23.4\n",
      "  warnings.warn(f\"A NumPy version >={np_minversion} and <{np_maxversion}\"\n",
      "2022-12-06 19:52:39.472153: I tensorflow/core/platform/cpu_feature_guard.cc:193] This TensorFlow binary is optimized with oneAPI Deep Neural Network Library (oneDNN) to use the following CPU instructions in performance-critical operations:  AVX2 FMA\n",
      "To enable them in other operations, rebuild TensorFlow with the appropriate compiler flags.\n"
     ]
    }
   ],
   "source": [
    "import numpy as np\n",
    "import pandas as pd\n",
    "import keras\n",
    "import keras.backend as K\n",
    "from keras.optimizers import Adam\n",
    "from keras.models import Sequential\n",
    "from keras.utils import Sequence\n",
    "from keras.layers import *\n",
    "import matplotlib.pyplot as plt\n",
    "\n",
    "model4 = keras.models.Sequential()\n",
    "\n",
    "model4.add(Conv2D(64, kernel_size=(3,3), activation='relu', padding='same', input_shape=(9,9,1)))\n",
    "model4.add(BatchNormalization())\n",
    "model4.add(Conv2D(64, kernel_size=(3,3), activation='relu', padding='same'))\n",
    "model4.add(BatchNormalization())\n",
    "model4.add(Conv2D(128, kernel_size=(1,1), activation='relu', padding='same'))\n",
    "\n",
    "model4.add(Flatten())\n",
    "model4.add(Dense(81*9))\n",
    "model4.add(Reshape((-1, 9)))\n",
    "model4.add(Activation('softmax'))\n",
    "\n",
    "adam = keras.optimizers.Adam(learning_rate=.001)\n",
    "model4.compile(loss=\"sparse_categorical_crossentropy\", optimizer=\"adam\", metrics=['accuracy']) # consider sparse_categorical_crossentropy"
   ]
  },
  {
   "cell_type": "code",
   "execution_count": 3,
   "id": "65535388-6ac3-4b0d-ae7c-06c954d71d34",
   "metadata": {},
   "outputs": [
    {
     "name": "stdout",
     "output_type": "stream",
     "text": [
      "Model: \"sequential\"\n",
      "_________________________________________________________________\n",
      " Layer (type)                Output Shape              Param #   \n",
      "=================================================================\n",
      " conv2d (Conv2D)             (None, 9, 9, 64)          640       \n",
      "                                                                 \n",
      " batch_normalization (BatchN  (None, 9, 9, 64)         256       \n",
      " ormalization)                                                   \n",
      "                                                                 \n",
      " conv2d_1 (Conv2D)           (None, 9, 9, 64)          36928     \n",
      "                                                                 \n",
      " batch_normalization_1 (Batc  (None, 9, 9, 64)         256       \n",
      " hNormalization)                                                 \n",
      "                                                                 \n",
      " conv2d_2 (Conv2D)           (None, 9, 9, 128)         8320      \n",
      "                                                                 \n",
      " flatten (Flatten)           (None, 10368)             0         \n",
      "                                                                 \n",
      " dense (Dense)               (None, 729)               7559001   \n",
      "                                                                 \n",
      " reshape (Reshape)           (None, 81, 9)             0         \n",
      "                                                                 \n",
      " activation (Activation)     (None, 81, 9)             0         \n",
      "                                                                 \n",
      "=================================================================\n",
      "Total params: 7,605,401\n",
      "Trainable params: 7,605,145\n",
      "Non-trainable params: 256\n",
      "_________________________________________________________________\n"
     ]
    }
   ],
   "source": [
    "model4.summary()"
   ]
  },
  {
   "cell_type": "code",
   "execution_count": 47,
   "id": "0397f6fd-5ce6-4262-8e52-c82932588e55",
   "metadata": {},
   "outputs": [],
   "source": [
    "from keras.callbacks import Callback, ModelCheckpoint, ReduceLROnPlateau\n",
    "filepath1=\"weights-improvement-{epoch:02d}-{val_accuracy:.2f}.hdf5\"\n",
    "filepath2 = \"best_weights.hdf5\"\n",
    "checkpoint1 = ModelCheckpoint(filepath1, monitor='val_accuracy', verbose=1, save_best_only=True, mode='max')\n",
    "checkpoint2 = ModelCheckpoint(filepath2, monitor='val_accuracy', verbose=1, save_best_only=True, mode='max')\n",
    "\n",
    "reduce_lr = ReduceLROnPlateau(\n",
    "    monitor='val_loss',\n",
    "    patience=3,\n",
    "    verbose=1,\n",
    "    min_lr=1e-6\n",
    ")\n",
    "callbacks_list = [checkpoint1,checkpoint2,reduce_lr]"
   ]
  },
  {
   "cell_type": "code",
   "execution_count": 48,
   "id": "cb33187d-1890-4631-97dc-257215b74389",
   "metadata": {},
   "outputs": [
    {
     "name": "stdout",
     "output_type": "stream",
     "text": [
      "Epoch 1/5\n",
      "742/742 [==============================] - ETA: 0s - loss: 1.0517 - accuracy: 0.1174\n",
      "Epoch 1: val_accuracy improved from -inf to 0.10285, saving model to weights-improvement-01-0.10.hdf5\n",
      "\n",
      "Epoch 1: val_accuracy improved from -inf to 0.10285, saving model to best_weights.hdf5\n",
      "742/742 [==============================] - 236s 317ms/step - loss: 1.0517 - accuracy: 0.1174 - val_loss: 0.7304 - val_accuracy: 0.1028 - lr: 0.0010\n",
      "Epoch 2/5\n",
      "742/742 [==============================] - ETA: 0s - loss: 0.4520 - accuracy: 0.1101\n",
      "Epoch 2: val_accuracy improved from 0.10285 to 0.11331, saving model to weights-improvement-02-0.11.hdf5\n",
      "\n",
      "Epoch 2: val_accuracy improved from 0.10285 to 0.11331, saving model to best_weights.hdf5\n",
      "742/742 [==============================] - 230s 310ms/step - loss: 0.4520 - accuracy: 0.1101 - val_loss: 0.4355 - val_accuracy: 0.1133 - lr: 0.0010\n",
      "Epoch 3/5\n",
      "742/742 [==============================] - ETA: 0s - loss: 0.4236 - accuracy: 0.1111\n",
      "Epoch 3: val_accuracy did not improve from 0.11331\n",
      "\n",
      "Epoch 3: val_accuracy did not improve from 0.11331\n",
      "742/742 [==============================] - 235s 317ms/step - loss: 0.4236 - accuracy: 0.1111 - val_loss: 0.4207 - val_accuracy: 0.1095 - lr: 0.0010\n",
      "Epoch 4/5\n",
      "742/742 [==============================] - ETA: 0s - loss: 0.4098 - accuracy: 0.1112\n",
      "Epoch 4: val_accuracy did not improve from 0.11331\n",
      "\n",
      "Epoch 4: val_accuracy did not improve from 0.11331\n",
      "742/742 [==============================] - 236s 318ms/step - loss: 0.4098 - accuracy: 0.1112 - val_loss: 0.4133 - val_accuracy: 0.1095 - lr: 0.0010\n",
      "Epoch 5/5\n",
      "742/742 [==============================] - ETA: 0s - loss: 0.3987 - accuracy: 0.1112\n",
      "Epoch 5: val_accuracy did not improve from 0.11331\n",
      "\n",
      "Epoch 5: val_accuracy did not improve from 0.11331\n",
      "742/742 [==============================] - 233s 314ms/step - loss: 0.3987 - accuracy: 0.1112 - val_loss: 0.4079 - val_accuracy: 0.1133 - lr: 0.0010\n"
     ]
    }
   ],
   "source": [
    "history = model4.fit(training_generator, validation_data = validation_generator, epochs = 5, verbose=1,callbacks=callbacks_list )"
   ]
  },
  {
   "cell_type": "code",
   "execution_count": 49,
   "id": "1bc3b950-bc14-4bba-802f-767eef142e8f",
   "metadata": {},
   "outputs": [],
   "source": [
    "model4.load_weights('best_weights.hdf5')"
   ]
  },
  {
   "cell_type": "code",
   "execution_count": 50,
   "id": "18d1229c-5af2-4c89-8b30-99d767306e27",
   "metadata": {},
   "outputs": [],
   "source": [
    "### Lets solve something\n",
    "\n",
    "import copy\n",
    "\n",
    "def inference_sudoku(sample):\n",
    "    \n",
    "    '''\n",
    "        This function solve the sudoku by filling blank positions one by one.\n",
    "    '''\n",
    "    \n",
    "    feat = copy.copy(sample)\n",
    "    \n",
    "    while(1):\n",
    "    \n",
    "        #Reshape to fit model predict values\n",
    "        out = model4.predict(feat.reshape((1,9,9,1)), verbose=0)  \n",
    "        #Reduce dim to (81,9) predictions\n",
    "        out = out.squeeze()\n",
    "        \n",
    "        #Rescale and reshape indices of predictions to 9x9\n",
    "        pred = np.argmax(out, axis=1).reshape((9,9))+1 \n",
    "        \n",
    "        #round probabilities\n",
    "        prob = np.around(np.max(out, axis=1).reshape((9,9)), 2) \n",
    "        \n",
    "        #get and rescale/reshape puzzle\n",
    "        feat = denorm(feat).reshape((9,9))\n",
    "        \n",
    "        # matrix of boolean values where empty square == true\n",
    "        mask = (feat==0)\n",
    "     \n",
    "        #If there are no empty squares, break\n",
    "        if(mask.sum()==0):\n",
    "            break\n",
    "            \n",
    "        #Only include relevant probabilities\n",
    "        prob_new = prob*mask\n",
    "    \n",
    "        #Find index of highest probability\n",
    "        ind = np.argmax(prob_new)\n",
    "        x, y = (ind//9), (ind%9)\n",
    "\n",
    "        #Set respective coordinate grid position to value\n",
    "        val = pred[x][y]\n",
    "        feat[x][y] = val\n",
    "        \n",
    "        #re-normalize? \n",
    "        feat = norm(feat)\n",
    "    \n",
    "    return pred\n",
    "\n",
    "def test_accuracy(feats, labels):\n",
    "    \n",
    "    correct = 0\n",
    "    \n",
    "    for i,feat in enumerate(feats):\n",
    "        \n",
    "        pred = inference_sudoku(feat)\n",
    "        \n",
    "        true = labels[i].reshape((9,9))+1\n",
    "        \n",
    "        if(abs(true - pred).sum()==0):\n",
    "            correct += 1\n",
    "        \n",
    "    print(correct/feats.shape[0])\n",
    "\n",
    "def solve_sudoku(game):\n",
    "    \n",
    "    game = game.replace('\\n', '')\n",
    "    game = game.replace(' ', '')\n",
    "    game = np.array([int(j) for j in game]).reshape((9,9,1))\n",
    "    game = norm(game)\n",
    "    game = inference_sudoku(game)\n",
    "    return game"
   ]
  },
  {
   "cell_type": "code",
   "execution_count": 92,
   "id": "a41ac423-c097-44e7-bb91-e29e93e89e73",
   "metadata": {},
   "outputs": [
    {
     "name": "stdout",
     "output_type": "stream",
     "text": [
      " \n",
      "  5 7 8 | 3 9 4 | 2 1 6\n",
      "  2 4 9 | 7 1 6 | 3 8 5\n",
      "  6 1 3 | 2 5 8 | 7 4 9\n",
      " -------+-------+-------\n",
      "  9 6 1 | 4 7 2 | 8 5 3\n",
      "  4 5 2 | 9 8 3 | 6 7 1\n",
      "  8 3 7 | 5 6 1 | 9 2 4\n",
      " -------+-------+-------\n",
      "  3 2 6 | 1 4 7 | 5 9 8\n",
      "  7 9 4 | 8 \u001b[31m3\u001b[0m 5 | 1 \u001b[31m6\u001b[0m \u001b[31m2\u001b[0m\n",
      "  1 8 5 | 6 \u001b[31m2\u001b[0m 9 | 4 \u001b[31m3\u001b[0m 7\n",
      " \n",
      "  2 7 4 | 9 3 5 | 8 1 6\n",
      "  9 1 8 | 2 4 6 | 3 7 5\n",
      "  6 5 3 | 7 1 8 | 4 9 2\n",
      " -------+-------+-------\n",
      "  1 9 5 | 3 7 4 | 2 6 8\n",
      "  3 2 7 | 8 6 1 | 5 4 9\n",
      "  4 8 6 | 5 9 2 | 1 3 7\n",
      " -------+-------+-------\n",
      "  5 3 9 | 1 8 7 | 6 2 4\n",
      "  7 4 2 | 6 5 3 | 9 8 1\n",
      "  8 6 1 | 4 2 9 | 7 5 3\n",
      " \n",
      "  3 9 1 | 4 8 6 | 7 5 2\n",
      "  7 4 8 | \u001b[31m2\u001b[0m 9 \u001b[31m5\u001b[0m | 6 1 3\n",
      "  6 2 5 | 1 3 7 | 4 9 8\n",
      " -------+-------+-------\n",
      "  9 1 \u001b[31m7\u001b[0m | 8 6 3 | 2 \u001b[31m4\u001b[0m 5\n",
      "  2 3 6 | \u001b[31m5\u001b[0m \u001b[31m4\u001b[0m 9 | 8 \u001b[31m7\u001b[0m 1\n",
      "  8 5 \u001b[31m4\u001b[0m | \u001b[31m7\u001b[0m 1 \u001b[31m2\u001b[0m | 9 3 6\n",
      " -------+-------+-------\n",
      "  1 6 9 | 3 7 8 | 5 2 4\n",
      "  5 7 3 | 6 2 4 | 1 8 9\n",
      "  4 8 2 | 9 5 1 | 3 6 7\n",
      " \n",
      "  7 5 3 | 2 4 9 | 6 8 1\n",
      "  2 8 1 | 7 5 6 | 3 9 4\n",
      "  6 9 4 | 3 1 8 | 7 2 5\n",
      " -------+-------+-------\n",
      "  9 1 2 | 8 7 4 | 5 6 3\n",
      "  8 4 6 | 9 3 5 | 1 7 2\n",
      "  3 7 5 | 6 2 1 | 9 4 8\n",
      " -------+-------+-------\n",
      "  4 6 8 | 1 9 3 | 2 5 7\n",
      "  5 3 7 | 4 6 2 | 8 1 9\n",
      "  1 2 9 | 5 8 7 | 4 3 6\n",
      " \n",
      "  6 \u001b[31m4\u001b[0m 9 | 8 2 \u001b[31m7\u001b[0m | 3 1 5\n",
      "  5 \u001b[31m8\u001b[0m 2 | 9 1 \u001b[31m3\u001b[0m | 6 4 \u001b[31m7\u001b[0m\n",
      "  \u001b[31m3\u001b[0m 1 \u001b[31m7\u001b[0m | 6 \u001b[31m4\u001b[0m 5 | 2 9 \u001b[31m8\u001b[0m\n",
      " -------+-------+-------\n",
      "  7 5 1 | 2 6 9 | 4 8 3\n",
      "  2 9 8 | 1 \u001b[31m3\u001b[0m \u001b[31m4\u001b[0m | 5 7 6\n",
      "  \u001b[31m4\u001b[0m \u001b[31m3\u001b[0m 6 | 5 7 8 | 9 2 1\n",
      " -------+-------+-------\n",
      "  8 2 3 | 4 \u001b[31m5\u001b[0m 1 | 7 \u001b[31m6\u001b[0m 9\n",
      "  1 \u001b[31m7\u001b[0m \u001b[31m4\u001b[0m | 3 \u001b[31m9\u001b[0m \u001b[31m6\u001b[0m | 8 \u001b[31m5\u001b[0m 2\n",
      "  9 6 5 | 7 8 2 | 1 3 4\n",
      " \n",
      "  2 7 6 | 9 4 5 | 8 1 3\n",
      "  8 5 4 | 7 1 3 | 9 2 6\n",
      "  9 3 1 | 8 2 6 | 4 5 7\n",
      " -------+-------+-------\n",
      "  4 6 2 | 3 5 9 | 7 8 1\n",
      "  5 9 8 | 1 6 7 | 2 3 4\n",
      "  7 1 3 | 4 8 2 | 5 6 9\n",
      " -------+-------+-------\n",
      "  1 2 7 | 6 9 8 | 3 4 5\n",
      "  3 4 5 | 2 7 1 | 6 9 8\n",
      "  6 8 9 | 5 3 4 | 1 7 2\n",
      " \n",
      "  3 4 1 | 8 7 6 | 9 2 5\n",
      "  7 8 2 | 3 5 9 | 4 6 1\n",
      "  5 6 9 | 1 2 4 | 3 8 7\n",
      " -------+-------+-------\n",
      "  6 3 5 | 7 1 2 | 8 9 4\n",
      "  8 2 7 | 9 4 5 | 1 3 6\n",
      "  1 9 4 | 6 3 8 | 7 5 2\n",
      " -------+-------+-------\n",
      "  4 \u001b[31m5\u001b[0m 3 | \u001b[31m2\u001b[0m 9 \u001b[31m7\u001b[0m | 6 1 8\n",
      "  2 1 8 | 4 6 3 | 5 7 9\n",
      "  9 \u001b[31m7\u001b[0m 6 | \u001b[31m5\u001b[0m 8 1 | 2 4 3\n",
      " \n",
      "  1 8 9 | 5 3 7 | 4 6 2\n",
      "  4 6 7 | 1 2 8 | 3 9 5\n",
      "  2 5 3 | 9 6 4 | 8 7 1\n",
      " -------+-------+-------\n",
      "  3 7 2 | 8 4 5 | 9 1 6\n",
      "  8 9 1 | 2 7 6 | 5 4 3\n",
      "  6 4 5 | 3 1 9 | 2 8 7\n",
      " -------+-------+-------\n",
      "  9 2 \u001b[31m6\u001b[0m | \u001b[31m7\u001b[0m 8 3 | 1 5 4\n",
      "  7 3 8 | 4 5 1 | 6 2 9\n",
      "  5 1 \u001b[31m4\u001b[0m | \u001b[31m6\u001b[0m 9 2 | 7 3 8\n",
      " \n",
      "  \u001b[31m8\u001b[0m 2 9 | 4 \u001b[31m3\u001b[0m 7 | 6 \u001b[31m1\u001b[0m 5\n",
      "  7 6 \u001b[31m1\u001b[0m | 5 2 9 | 3 \u001b[31m8\u001b[0m 4\n",
      "  \u001b[31m5\u001b[0m 4 \u001b[31m3\u001b[0m | 6 \u001b[31m1\u001b[0m 8 | 2 7 9\n",
      " -------+-------+-------\n",
      "  \u001b[31m2\u001b[0m 5 7 | 1 9 3 | \u001b[31m8\u001b[0m \u001b[31m4\u001b[0m 6\n",
      "  6 1 \u001b[31m8\u001b[0m | 2 5 4 | 9 \u001b[31m3\u001b[0m \u001b[31m7\u001b[0m\n",
      "  \u001b[31m3\u001b[0m 9 4 | 7 8 6 | \u001b[31m5\u001b[0m \u001b[31m2\u001b[0m \u001b[31m1\u001b[0m\n",
      " -------+-------+-------\n",
      "  \u001b[31m9\u001b[0m 3 \u001b[31m5\u001b[0m | 8 7 1 | \u001b[31m4\u001b[0m 6 \u001b[31m2\u001b[0m\n",
      "  \u001b[31m1\u001b[0m 8 6 | 9 4 2 | 7 \u001b[31m5\u001b[0m \u001b[31m3\u001b[0m\n",
      "  \u001b[31m4\u001b[0m 7 \u001b[31m2\u001b[0m | 3 6 5 | \u001b[31m1\u001b[0m 9 \u001b[31m8\u001b[0m\n",
      " \n",
      "  9 6 5 | 7 3 8 | 1 2 4\n",
      "  4 2 7 | 5 6 1 | 9 8 3\n",
      "  3 8 1 | 4 2 9 | 5 7 6\n",
      " -------+-------+-------\n",
      "  5 9 3 | \u001b[31m8\u001b[0m \u001b[31m4\u001b[0m \u001b[31m2\u001b[0m | 7 6 1\n",
      "  7 4 6 | 3 1 5 | 8 9 2\n",
      "  2 1 8 | 9 7 6 | 4 3 5\n",
      " -------+-------+-------\n",
      "  \u001b[31m1\u001b[0m \u001b[31m3\u001b[0m 4 | 6 \u001b[31m8\u001b[0m \u001b[31m7\u001b[0m | \u001b[31m2\u001b[0m \u001b[31m5\u001b[0m 9\n",
      "  \u001b[31m6\u001b[0m \u001b[31m7\u001b[0m 9 | \u001b[31m2\u001b[0m \u001b[31m5\u001b[0m \u001b[31m4\u001b[0m | \u001b[31m3\u001b[0m \u001b[31m1\u001b[0m 8\n",
      "  8 5 2 | 1 9 3 | 6 4 7\n"
     ]
    }
   ],
   "source": [
    "for i in range(10):\n",
    "    solved = np.array(list(y_test.iloc[i])).astype(int).reshape(9,9)\n",
    "    solution = solve_sudoku(X_test.iloc[i])\n",
    "    checkError(solved, solution)"
   ]
  },
  {
   "cell_type": "code",
   "execution_count": null,
   "id": "5bded3ec-4eab-452e-afcc-d9c552629b28",
   "metadata": {},
   "outputs": [],
   "source": []
  }
 ],
 "metadata": {
  "kernelspec": {
   "display_name": "Python 3 (ipykernel)",
   "language": "python",
   "name": "python3"
  },
  "language_info": {
   "codemirror_mode": {
    "name": "ipython",
    "version": 3
   },
   "file_extension": ".py",
   "mimetype": "text/x-python",
   "name": "python",
   "nbconvert_exporter": "python",
   "pygments_lexer": "ipython3",
   "version": "3.9.12"
  }
 },
 "nbformat": 4,
 "nbformat_minor": 5
}
